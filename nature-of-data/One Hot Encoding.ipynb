{
 "cells": [
  {
   "cell_type": "code",
   "execution_count": 21,
   "metadata": {
    "collapsed": false
   },
   "outputs": [
    {
     "name": "stdout",
     "output_type": "stream",
     "text": [
      "LabelEncoder()\n"
     ]
    }
   ],
   "source": [
    "# In this exercise we'll load the titanic data (from Project 0)\n",
    "# And then perform one-hot encoding on the feature names\n",
    "\n",
    "# 在这一节我们将载入泰坦尼克的数据并在指定的名称上练习 one-hot encoding.\n",
    "\n",
    "import numpy as np\n",
    "import pandas as pd\n",
    "\n",
    "# Let's see what is LabelEncoder and OneHotEncoder first.\n",
    "# 不过我们先看看 LabelEncoder 跟 OneHotEncoder 是啥鸡巴玩儿.\n",
    "\n",
    "from sklearn.preprocessing import LabelEncoder\n",
    "from sklearn.preprocessing import OneHotEncoder\n",
    "\n",
    "# Let's create a new LabelEncoder object.\n",
    "# 先瞅瞅 LabelEncoder.\n",
    "le = LabelEncoder()\n",
    "print le"
   ]
  },
  {
   "cell_type": "code",
   "execution_count": 77,
   "metadata": {
    "collapsed": false
   },
   "outputs": [
    {
     "name": "stdout",
     "output_type": "stream",
     "text": [
      "LabelEncoder()\n"
     ]
    }
   ],
   "source": [
    "# Then add something to it.\n",
    "# 然后随便写点数据.\n",
    "\n",
    "myNumber = [1, 5, 67, 100]\n",
    "le.fit(myNumber)\n",
    "print le"
   ]
  },
  {
   "cell_type": "code",
   "execution_count": 80,
   "metadata": {
    "collapsed": false
   },
   "outputs": [
    {
     "data": {
      "text/plain": [
       "array([0, 0, 3, 2, 1], dtype=int64)"
      ]
     },
     "execution_count": 80,
     "metadata": {},
     "output_type": "execute_result"
    }
   ],
   "source": [
    "# Then do a transform.\n",
    "# 然后 transform 一下.\n",
    "checkThis = [1, 1, 100, 67, 5]\n",
    "le.transform(checkThis)"
   ]
  },
  {
   "cell_type": "code",
   "execution_count": 87,
   "metadata": {
    "collapsed": false
   },
   "outputs": [
    {
     "data": {
      "text/plain": [
       "array([0, 1, 2, 3], dtype=int64)"
      ]
     },
     "execution_count": 87,
     "metadata": {},
     "output_type": "execute_result"
    }
   ],
   "source": [
    "# 我们得到了一个结果为 [0, 0, 3, 2, 1] 的数组.\n",
    "# 我们用 le.transform 方法检查了 [1, 1, 100, 67, 5] 在 [1, 5, 67, 100] 中的位置，并返回了下标.\n",
    "\n",
    "# 这是 LabelEncoder，它用来将不连续的成员进行编号.\n",
    "\n",
    "# 查看编号看看：\n",
    "myNumber = [1, 5, 67, 100]\n",
    "le.transform(myNumber)"
   ]
  },
  {
   "cell_type": "code",
   "execution_count": 88,
   "metadata": {
    "collapsed": false
   },
   "outputs": [
    {
     "data": {
      "text/plain": [
       "array([0, 1, 2, 3], dtype=int64)"
      ]
     },
     "execution_count": 88,
     "metadata": {},
     "output_type": "execute_result"
    }
   ],
   "source": [
    "# 这里还有一个 fit_transform 的方法，用来直接返回传入项目所使用的编号.\n",
    "# 和上面的作用一样.\n",
    "le2 = LabelEncoder()\n",
    "le2.fit_transform([1, 5, 67, 100])"
   ]
  },
  {
   "cell_type": "code",
   "execution_count": 28,
   "metadata": {
    "collapsed": false
   },
   "outputs": [
    {
     "name": "stdout",
     "output_type": "stream",
     "text": [
      "OneHotEncoder(categorical_features='all', dtype=<type 'numpy.float64'>,\n",
      "       handle_unknown='error', n_values='auto', sparse=True)\n"
     ]
    }
   ],
   "source": [
    "# 再看看 OneHotEncoder.\n",
    "\n",
    "# 搞一个 OneHotEncoder.\n",
    "ohe = OneHotEncoder()\n",
    "print ohe"
   ]
  },
  {
   "cell_type": "code",
   "execution_count": 66,
   "metadata": {
    "collapsed": false
   },
   "outputs": [
    {
     "data": {
      "text/plain": [
       "OneHotEncoder(categorical_features='all', dtype=<type 'numpy.float64'>,\n",
       "       handle_unknown='error', n_values='auto', sparse=True)"
      ]
     },
     "execution_count": 66,
     "metadata": {},
     "output_type": "execute_result"
    }
   ],
   "source": [
    "# 然后搞点数据.\n",
    "ohe.fit([[11], [22], [33], [44], [55]])"
   ]
  },
  {
   "cell_type": "code",
   "execution_count": 68,
   "metadata": {
    "collapsed": false
   },
   "outputs": [
    {
     "data": {
      "text/plain": [
       "array([[ 1.,  0.,  0.,  0.,  0.],\n",
       "       [ 0.,  1.,  0.,  0.,  0.],\n",
       "       [ 0.,  0.,  1.,  0.,  0.],\n",
       "       [ 0.,  0.,  0.,  1.,  0.],\n",
       "       [ 0.,  0.,  0.,  0.,  1.]])"
      ]
     },
     "execution_count": 68,
     "metadata": {},
     "output_type": "execute_result"
    }
   ],
   "source": [
    "# 然后 transform 一下.\n",
    "ohe.transform([[11], [22], [33], [44], [55]]).toarray()"
   ]
  },
  {
   "cell_type": "code",
   "execution_count": 89,
   "metadata": {
    "collapsed": false
   },
   "outputs": [
    {
     "data": {
      "text/plain": [
       "array([[ 0.,  0.,  0.,  0.,  1.],\n",
       "       [ 0.,  1.,  0.,  0.,  0.],\n",
       "       [ 1.,  0.,  0.,  0.,  0.],\n",
       "       [ 0.,  0.,  0.,  1.,  0.]])"
      ]
     },
     "execution_count": 89,
     "metadata": {},
     "output_type": "execute_result"
    }
   ],
   "source": [
    "# 不明白？再来一个.\n",
    "ohe.transform([[55], [22], [11], [44]]).toarray()\n",
    "\n",
    "# 可看到，输出的结果：\n",
    "# - 结果数组中的每一项从 fit 时传入的“每一项 1 个成员”扩容至了 fit 时“传入的成员数量”（5 个）.\n",
    "# - 结果数组中的每一项中的 1 代表 transform 时传入的数值在原数组中的下标位置，0 为其他位置占位符.\n",
    "\n",
    "# 还是不懂，不过找到一个参照文章：\n",
    "# http://blog.csdn.net/ariessurfer/article/details/42526673"
   ]
  },
  {
   "cell_type": "code",
   "execution_count": 93,
   "metadata": {
    "collapsed": false
   },
   "outputs": [
    {
     "data": {
      "text/plain": [
       "array([[ 1.,  0.,  0.,  0.,  0.],\n",
       "       [ 0.,  1.,  0.,  0.,  0.],\n",
       "       [ 0.,  0.,  1.,  0.,  0.],\n",
       "       [ 0.,  0.,  0.,  1.,  0.],\n",
       "       [ 0.,  0.,  0.,  0.,  1.]])"
      ]
     },
     "execution_count": 93,
     "metadata": {},
     "output_type": "execute_result"
    }
   ],
   "source": [
    "# 这里也有一个 fit_transform 方法，直接返回传入内容的独热编码.\n",
    "ohe2 = OneHotEncoder()\n",
    "ohe2.fit_transform([[11], [22], [33], [44], [55]]).toarray()"
   ]
  },
  {
   "cell_type": "markdown",
   "metadata": {},
   "source": [
    "### 若干理解\n",
    "\n",
    "摘抄至[机器学习 数据预处理之独热编码（One-Hot Encoding）](http://blog.csdn.net/ariessurfer/article/details/42526673)\n",
    "\n",
    "---\n",
    "\n",
    "**独热编码** 即 **One-Hot** 编码，又称**一位有效编码**，其方法是使用 N 位状态寄存器来对 N 个状态进行编码，每个状态都由他独立的寄存器位，并且在任意时候，其中只有一位有效。\n",
    "\n",
    "例如：\n",
    "\n",
    "自然状态码为：`000, 001, 010, 011, 100, 101`\n",
    "\n",
    "独热编码（One Hot Encoding）为：`000001, 000010, 000100, 001000, 010000, 100000`\n",
    "\n",
    "> 每一项被转换为了 6 位的二进制数，因为原成员数为 6 个，然后使用其中一位进行占位，来映射表示原成员项.\n",
    "\n",
    "可以这样理解，对于每一个特征，如果它有 m 个（上面为 6 个）可能值，那么经过独热编码后，就变成了 m 个二元特征。并且，这些特征互斥，每次只有一个激活。因此，数据会变成稀疏的。\n",
    "\n",
    "> 例如：\n",
    "有一组数据为：names = [\"Lancer\", \"Felix\", \"Shuhan\", \"Fanfan\"]\n",
    "那么经过 ohe.fit(names) 后应该为：[0001, 0010, 0100, 1000]\n",
    "每个成员使用一个 4 位二进制数表示，且其中一位设置为 1，作为个性数值.\n",
    "那么之后的代码，可以用 0001 代表 \"Lancer\", 0010 代表 \"Felix\", 0100 代表 \"Shuhan\", 1000 代表 \"Fanfan\".\n"
   ]
  }
 ],
 "metadata": {
  "kernelspec": {
   "display_name": "Python 2",
   "language": "python",
   "name": "python2"
  },
  "language_info": {
   "codemirror_mode": {
    "name": "ipython",
    "version": 2
   },
   "file_extension": ".py",
   "mimetype": "text/x-python",
   "name": "python",
   "nbconvert_exporter": "python",
   "pygments_lexer": "ipython2",
   "version": "2.7.13"
  }
 },
 "nbformat": 4,
 "nbformat_minor": 2
}
