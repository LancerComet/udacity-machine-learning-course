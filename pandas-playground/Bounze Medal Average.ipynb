{
 "cells": [
  {
   "cell_type": "code",
   "execution_count": 32,
   "metadata": {
    "collapsed": false
   },
   "outputs": [
    {
     "name": "stdout",
     "output_type": "stream",
     "text": [
      "0      9\n",
      "1     10\n",
      "2      5\n",
      "3     12\n",
      "4      9\n",
      "5      5\n",
      "6      2\n",
      "7      1\n",
      "8      5\n",
      "9      7\n",
      "10     1\n",
      "11     2\n",
      "12     2\n",
      "13     6\n",
      "14     2\n",
      "15     4\n",
      "16     3\n",
      "17     1\n",
      "18     2\n",
      "19     1\n",
      "20     0\n",
      "Name: bronze, dtype: int64\n",
      "\n",
      "4.2380952381\n"
     ]
    }
   ],
   "source": [
    "# 至少获得一枚金牌的国家平均获得了多少铜牌.\n",
    "# 保存至 avg_bronze_At_least_one_gold 中.\n",
    "\n",
    "from pandas import DataFrame\n",
    "import numpy\n",
    "\n",
    "countries = [\n",
    "    'Russian Fed.', 'Norway', 'Canada', 'United States', 'Netherlands', 'Germany', 'Switzerland',\n",
    "    'Belarus', 'Austria', 'France', 'Poland', 'China', 'Korea', 'Sweden', 'Czech Republic',\n",
    "    'Slovenia', 'Japan', 'Finland', 'Great Britain', 'Ukraine', 'Slovakia', 'Italy', 'Latvia',\n",
    "    'Australia', 'Croatia', 'Kazakhstan'\n",
    "]\n",
    "gold = [13, 11, 10, 9, 8, 8, 6, 5, 4, 4, 4, 3, 3, 2, 2, 2, 1, 1, 1, 1, 1, 0, 0, 0, 0, 0]\n",
    "silver = [11, 5, 10, 7, 7, 6, 3, 0, 8, 4, 1, 4, 3, 7, 4, 2, 4, 3, 1, 0, 0, 2, 2, 2, 1, 0]\n",
    "bronze = [9, 10, 5, 12, 9, 5, 2, 1, 5, 7, 1, 2, 2, 6, 2, 4, 3, 1, 2, 1, 0, 6, 2, 1, 0, 1]\n",
    "\n",
    "dataFrame = DataFrame({\n",
    "    'country': countries,\n",
    "    'gold': gold,\n",
    "    'silver': silver,\n",
    "    'bronze': bronze\n",
    "})\n",
    "\n",
    "bronzeDataSeries = dataFrame[dataFrame['gold'] >= 1]['bronze']\n",
    "\n",
    "print bronzeDataSeries\n",
    "print ''\n",
    "\n",
    "avg_bronze_At_least_one_gold = numpy.mean(bronzeDataSeries)\n",
    "print avg_bronze_At_least_one_gold"
   ]
  },
  {
   "cell_type": "code",
   "execution_count": null,
   "metadata": {
    "collapsed": true
   },
   "outputs": [],
   "source": []
  }
 ],
 "metadata": {
  "kernelspec": {
   "display_name": "Python 2",
   "language": "python",
   "name": "python2"
  },
  "language_info": {
   "codemirror_mode": {
    "name": "ipython",
    "version": 2
   },
   "file_extension": ".py",
   "mimetype": "text/x-python",
   "name": "python",
   "nbconvert_exporter": "python",
   "pygments_lexer": "ipython2",
   "version": "2.7.13"
  }
 },
 "nbformat": 4,
 "nbformat_minor": 2
}
