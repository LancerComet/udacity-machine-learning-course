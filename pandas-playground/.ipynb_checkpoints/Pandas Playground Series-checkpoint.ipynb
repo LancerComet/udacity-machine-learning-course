{
 "cells": [
  {
   "cell_type": "code",
   "execution_count": 6,
   "metadata": {
    "collapsed": false
   },
   "outputs": [
    {
     "data": {
      "text/plain": [
       "\"\\nThe following code is to help you play with the concept of Series in Pandas.\\n\\nYou can think of Series as an one-dimensional object that is similar to\\nan array, list, or column in a database. By default, it will assign an\\nindex label to each item in the Series ranging from 0 to N, where N is\\nthe number of items in the Series minus one.\\n\\nPlease feel free to play around with the concept of Series and see what it does\\n\\n*This playground is inspired by Greg Reda's post on Intro to Pandas Data Structures:\\nhttp://www.gregreda.com/2013/10/26/intro-to-pandas-data-structures/\\n\""
      ]
     },
     "execution_count": 6,
     "metadata": {},
     "output_type": "execute_result"
    }
   ],
   "source": [
    "import pandas as pd\n",
    "\n",
    "'''\n",
    "The following code is to help you play with the concept of Series in Pandas.\n",
    "---\n",
    "本段代码将帮助您了解 Pandas 中的 Series（系列）.\n",
    "\n",
    "You can think of Series as an one-dimensional object that is similar to\n",
    "an array, list, or column in a database. By default, it will assign an\n",
    "index label to each item in the Series ranging from 0 to N, where N is\n",
    "the number of items in the Series minus one.\n",
    "---\n",
    "您可以认为 Series 是一种很像数据库中的数组、列表或列的一维对象.\n",
    "默认情况下，在 Series 中的每一项将会被对应赋值一个索引（下标），范围从 0 至 N.\n",
    "N 是 Series 中项目的数量，最少为 1.\n",
    "\n",
    "\n",
    "Please feel free to play around with the concept of Series and see what it does\n",
    "\n",
    "*This playground is inspired by Greg Reda's post on Intro to Pandas Data Structures:\n",
    "http://www.gregreda.com/2013/10/26/intro-to-pandas-data-structures/\n",
    "'''"
   ]
  },
  {
   "cell_type": "code",
   "execution_count": 7,
   "metadata": {
    "collapsed": false
   },
   "outputs": [
    {
     "name": "stdout",
     "output_type": "stream",
     "text": [
      "0           Dave\n",
      "1      Cheng-Han\n",
      "2        Udacity\n",
      "3             42\n",
      "4    -1789710578\n",
      "dtype: object\n"
     ]
    },
    {
     "data": {
      "text/plain": [
       "'\\nYou can also manually assign indices to the items in the Series when\\ncreating the series\\n'"
      ]
     },
     "execution_count": 7,
     "metadata": {},
     "output_type": "execute_result"
    }
   ],
   "source": [
    "# 创建一个 Series.\n",
    "if True:\n",
    "    series = pd.Series(['Dave', 'Cheng-Han', 'Udacity', 42, -1789710578])\n",
    "    print series\n",
    "\n",
    "'''\n",
    "You can also manually assign indices to the items in the Series when\n",
    "creating the series\n",
    "'''"
   ]
  },
  {
   "cell_type": "code",
   "execution_count": 18,
   "metadata": {
    "collapsed": false
   },
   "outputs": [
    {
     "name": "stdout",
     "output_type": "stream",
     "text": [
      "Instructor                 Dave\n",
      "Curriculum Manager    Cheng-Han\n",
      "Course Number               359\n",
      "Power Level                9001\n",
      "dtype: object\n"
     ]
    },
    {
     "data": {
      "text/plain": [
       "'\\nYou can use index to select specific items from the Series\\n'"
      ]
     },
     "execution_count": 18,
     "metadata": {},
     "output_type": "execute_result"
    }
   ],
   "source": [
    "# 使用自定义索引（下标）.\n",
    "if True:\n",
    "    series = pd.Series(\n",
    "        ['Dave', 'Cheng-Han', 359, 9001],\n",
    "        index = ['Instructor', 'Curriculum Manager', 'Course Number', 'Power Level']\n",
    "    )\n",
    "    print series\n",
    "\n",
    "'''\n",
    "You can use index to select specific items from the Series\n",
    "'''"
   ]
  },
  {
   "cell_type": "code",
   "execution_count": 19,
   "metadata": {
    "collapsed": false
   },
   "outputs": [
    {
     "name": "stdout",
     "output_type": "stream",
     "text": [
      "Dave\n",
      "\n",
      "Instructor                 Dave\n",
      "Curriculum Manager    Cheng-Han\n",
      "Course Number               359\n",
      "dtype: object\n"
     ]
    },
    {
     "data": {
      "text/plain": [
       "'\\nYou can also use boolean operators to select specific items from the Series\\n'"
      ]
     },
     "execution_count": 19,
     "metadata": {},
     "output_type": "execute_result"
    }
   ],
   "source": [
    "# 使用索引（下标）取值.\n",
    "if True:\n",
    "    series = pd.Series(\n",
    "        ['Dave', 'Cheng-Han', 359, 9001],\n",
    "        index = ['Instructor', 'Curriculum Manager', 'Course Number', 'Power Level']\n",
    "    )\n",
    "    print series['Instructor']\n",
    "    print \"\"\n",
    "    print series[['Instructor', 'Curriculum Manager', 'Course Number']]\n",
    "\n",
    "'''\n",
    "You can also use boolean operators to select specific items from the Series\n",
    "'''"
   ]
  },
  {
   "cell_type": "code",
   "execution_count": 24,
   "metadata": {
    "collapsed": false
   },
   "outputs": [
    {
     "name": "stdout",
     "output_type": "stream",
     "text": [
      "Cockroach    1\n",
      "Fish         2\n",
      "Mini Pig     3\n",
      "Puppy        4\n",
      "Kitten       5\n",
      "dtype: int64\n",
      "\n",
      "Cockroach    False\n",
      "Fish         False\n",
      "Mini Pig     False\n",
      "Puppy         True\n",
      "Kitten        True\n",
      "dtype: bool\n",
      "\n",
      "Puppy     4\n",
      "Kitten    5\n",
      "dtype: int64\n"
     ]
    }
   ],
   "source": [
    "# 布尔类型的条件索引.\n",
    "if True:\n",
    "    cuteness = pd.Series(\n",
    "        [1, 2, 3, 4, 5],\n",
    "        index = ['Cockroach', 'Fish', 'Mini Pig', 'Puppy', 'Kitten']\n",
    "    )\n",
    "    print cuteness\n",
    "    print \"\"\n",
    "    print cuteness > 3\n",
    "    print \"\"\n",
    "    print cuteness[cuteness > 3]"
   ]
  },
  {
   "cell_type": "code",
   "execution_count": null,
   "metadata": {
    "collapsed": true
   },
   "outputs": [],
   "source": []
  }
 ],
 "metadata": {
  "kernelspec": {
   "display_name": "Python 2",
   "language": "python",
   "name": "python2"
  },
  "language_info": {
   "codemirror_mode": {
    "name": "ipython",
    "version": 2
   },
   "file_extension": ".py",
   "mimetype": "text/x-python",
   "name": "python",
   "nbconvert_exporter": "python",
   "pygments_lexer": "ipython2",
   "version": "2.7.13"
  }
 },
 "nbformat": 4,
 "nbformat_minor": 2
}
