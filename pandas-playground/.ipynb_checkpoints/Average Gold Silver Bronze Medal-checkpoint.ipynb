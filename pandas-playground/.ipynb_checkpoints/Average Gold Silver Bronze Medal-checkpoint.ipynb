{
 "cells": [
  {
   "cell_type": "code",
   "execution_count": 13,
   "metadata": {
    "collapsed": false
   },
   "outputs": [
    {
     "name": "stdout",
     "output_type": "stream",
     "text": [
      "gold      3.807692\n",
      "silver    3.730769\n",
      "bronze    3.807692\n",
      "dtype: float64\n"
     ]
    }
   ],
   "source": [
    "import numpy\n",
    "from pandas import DataFrame, Series\n",
    "\n",
    "countries = ['Russian Fed.', 'Norway', 'Canada', 'United States',\n",
    "             'Netherlands', 'Germany', 'Switzerland', 'Belarus',\n",
    "             'Austria', 'France', 'Poland', 'China', 'Korea', \n",
    "             'Sweden', 'Czech Republic', 'Slovenia', 'Japan',\n",
    "             'Finland', 'Great Britain', 'Ukraine', 'Slovakia',\n",
    "             'Italy', 'Latvia', 'Australia', 'Croatia', 'Kazakhstan']\n",
    "\n",
    "gold = [13, 11, 10, 9, 8, 8, 6, 5, 4, 4, 4, 3, 3, 2, 2, 2, 1, 1, 1, 1, 1, 0, 0, 0, 0, 0]\n",
    "silver = [11, 5, 10, 7, 7, 6, 3, 0, 8, 4, 1, 4, 3, 7, 4, 2, 4, 3, 1, 0, 0, 2, 2, 2, 1, 0]\n",
    "bronze = [9, 10, 5, 12, 9, 5, 2, 1, 5, 7, 1, 2, 2, 6, 2, 4, 3, 1, 2, 1, 0, 6, 2, 1, 0, 1]\n",
    "\n",
    "dataFrame = DataFrame({\n",
    "    'country': countries,\n",
    "    'gold': gold,\n",
    "    'silver': silver,\n",
    "    'bronze': bronze\n",
    "})\n",
    "\n",
    "avgGold = numpy.mean(dataFrame['gold'])\n",
    "avgSilver = numpy.mean(dataFrame['silver'])\n",
    "avgBronze = numpy.mean(dataFrame['bronze'])\n",
    "\n",
    "avg_medal_count = Series([avgGold, avgSilver, avgBronze], index=['gold', 'silver', 'bronze'])\n",
    "print avg_medal_count\n"
   ]
  },
  {
   "cell_type": "code",
   "execution_count": null,
   "metadata": {
    "collapsed": true
   },
   "outputs": [],
   "source": []
  }
 ],
 "metadata": {
  "kernelspec": {
   "display_name": "Python 2",
   "language": "python",
   "name": "python2"
  },
  "language_info": {
   "codemirror_mode": {
    "name": "ipython",
    "version": 2
   },
   "file_extension": ".py",
   "mimetype": "text/x-python",
   "name": "python",
   "nbconvert_exporter": "python",
   "pygments_lexer": "ipython2",
   "version": "2.7.13"
  }
 },
 "nbformat": 4,
 "nbformat_minor": 2
}
