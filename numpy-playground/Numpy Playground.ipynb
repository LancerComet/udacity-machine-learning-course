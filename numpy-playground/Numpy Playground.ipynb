{
 "cells": [
  {
   "cell_type": "code",
   "execution_count": 1,
   "metadata": {
    "collapsed": false
   },
   "outputs": [
    {
     "name": "stdout",
     "output_type": "stream",
     "text": [
      "      Area  Value  Room  Living  School  Year  Floor\n",
      "0      128    370     3       1       1  2004     21\n",
      "1       68    330     1       2       1  2000      6\n",
      "2      125    355     3       2       0  2003      5\n",
      "3      129    278     2       2       0  2005     16\n",
      "4      118    340     3       2       0  2003      6\n",
      "5       58    300     1       1       0  2003     22\n",
      "6      104    208     3       1       0  2001      6\n",
      "7      198    380     3       2       0  2005      7\n",
      "8       98    530     3       1       1  1990     12\n",
      "9       97    465     2       1       1  1990     10\n",
      "10     166   1220     3       2       1  2005     15\n",
      "11      71    240     1       1       0  2008     25\n",
      "12      51    175     2       1       0  2012     16\n",
      "13      93    560     2       2       0  2010     26\n",
      "14      54    280     2       1       1  1982     20\n",
      "15      72    258     1       2       0  1999     30\n",
      "16      56    190     2       1       1  1988      6\n",
      "17      58    190     2       1       0  1995      6\n",
      "18     111    300     2       2       1  1999     25\n",
      "19      51    195     2       1       0  1986      6\n",
      "20      57    178     2       1       1  1995      6\n",
      "21      56    200     1       1       0  2003     15\n",
      "22      98    360     3       1       1  1996      6\n",
      "23     120    410     2       2       1  1998     30\n",
      "24      82    215     2       1       1  1996      6\n",
      "25     100    300     2       1       1  2005     20\n",
      "26     150    375     3       2       1  2003     20\n",
      "27      85    530     2       2       1  2005     16\n",
      "28      89    170     3       2       0  2009     18\n",
      "29      85    350     2       1       1  2000     12\n",
      "...    ...    ...   ...     ...     ...   ...    ...\n",
      "9969    58    125     2       1       1  2000      6\n",
      "9970    96    400     2       1       1  2005      6\n",
      "9971   136    398     3       2       1  1999      6\n",
      "9972    67    320     2       1       1  1986     15\n",
      "9973    41    120     1       1       0  2007     26\n",
      "9974    72    153     2       1       1  1997      6\n",
      "9975    55    260     2       1       0  1994      6\n",
      "9976    62    170     2       1       1  1993      6\n",
      "9977    80    320     3       2       0  2012     16\n",
      "9978   153    490     3       2       1  2003     15\n",
      "9979    88    340     2       1       1  2000     24\n",
      "9980    91    410     2       1       0  2003     19\n",
      "9981    94    255     3       1       0  1995      6\n",
      "9982    63    226     2       1       0  1989     17\n",
      "9983    76    235     2       1       1  2005     11\n",
      "9984   102    290     2       1       1  2004     16\n",
      "9985   220    800     4       2       1  2006      3\n",
      "9986   262   1250     5       2       1  2006     11\n",
      "9987   174    240     4       2       1  1995      7\n",
      "9988    89    288     3       1       1  1996      6\n",
      "9989    76    560     3       1       1  1982      6\n",
      "9990    99    335     3       1       0  1992     15\n",
      "9991    99    395     2       2       1  2001     11\n",
      "9992   100    350     2       2       1  2007      6\n",
      "9993    41    228     1       1       0  1990     18\n",
      "9994    73    293     3       1       1  1988     14\n",
      "9995    34    124     1       0       0  2000     24\n",
      "9996    61    240     2       1       0  1986     16\n",
      "9997    87    350     3       1       1  1960      5\n",
      "9998    54    180     2       1       1  1986      6\n",
      "\n",
      "[9999 rows x 7 columns]\n"
     ]
    }
   ],
   "source": [
    "import pandas as pd\n",
    "import numpy as np\n",
    "\n",
    "# 本章内容将介绍常用的 numpy 方法.\n",
    "# 同时将结合使用 pandas 进行演示.\n",
    "\n",
    "# 载入数据.\n",
    "data = pd.read_csv('data-set-for-playground.csv')\n",
    "print data"
   ]
  },
  {
   "cell_type": "code",
   "execution_count": 13,
   "metadata": {
    "collapsed": false
   },
   "outputs": [
    {
     "name": "stdout",
     "output_type": "stream",
     "text": [
      "Min: 66\n",
      "Max: 7450\n",
      "Mean: 342.076207621\n",
      "Median: 280.0\n",
      "Standard Deviation: 259.393056323\n"
     ]
    }
   ],
   "source": [
    "# 定义 price 为以上数据的 value 值.\n",
    "price = data['Value']\n",
    "\n",
    "# 最小值.\n",
    "min = np.min(price)\n",
    "print 'Min:', min\n",
    "\n",
    "# 最大值.\n",
    "max = np.max(price)\n",
    "print 'Max:', max\n",
    "\n",
    "# 平均值.\n",
    "mean = np.mean(price)\n",
    "print \"Mean:\", mean\n",
    "\n",
    "# 中位数.\n",
    "median = np.median(price)\n",
    "print \"Median:\", median\n",
    "\n",
    "# 标准差.\n",
    "std = np.std(price)\n",
    "print \"Standard Deviation:\", std"
   ]
  },
  {
   "cell_type": "code",
   "execution_count": null,
   "metadata": {
    "collapsed": true
   },
   "outputs": [],
   "source": []
  }
 ],
 "metadata": {
  "kernelspec": {
   "display_name": "Python 2",
   "language": "python",
   "name": "python2"
  },
  "language_info": {
   "codemirror_mode": {
    "name": "ipython",
    "version": 2
   },
   "file_extension": ".py",
   "mimetype": "text/x-python",
   "name": "python",
   "nbconvert_exporter": "python",
   "pygments_lexer": "ipython2",
   "version": "2.7.13"
  }
 },
 "nbformat": 4,
 "nbformat_minor": 2
}
